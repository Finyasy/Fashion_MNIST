{
  "nbformat": 4,
  "nbformat_minor": 0,
  "metadata": {
    "colab": {
      "name": "Fashion.ipynb",
      "provenance": [],
      "collapsed_sections": [],
      "authorship_tag": "ABX9TyMCCQmmE2qIrrj0UzC6tY5y",
      "include_colab_link": true
    },
    "kernelspec": {
      "name": "python3",
      "display_name": "Python 3"
    },
    "language_info": {
      "name": "python"
    }
  },
  "cells": [
    {
      "cell_type": "markdown",
      "metadata": {
        "id": "view-in-github",
        "colab_type": "text"
      },
      "source": [
        "<a href=\"https://colab.research.google.com/github/Finyasy/Fashion_MNIST/blob/main/Fashion.ipynb\" target=\"_parent\"><img src=\"https://colab.research.google.com/assets/colab-badge.svg\" alt=\"Open In Colab\"/></a>"
      ]
    },
    {
      "cell_type": "code",
      "metadata": {
        "id": "uDvbn7sa22YW"
      },
      "source": [
        "import torch\n",
        "from torchvision import datasets,transforms\n",
        "import helper"
      ],
      "execution_count": null,
      "outputs": []
    },
    {
      "cell_type": "code",
      "metadata": {
        "id": "R6oHdik83TQg"
      },
      "source": [
        "transform = transforms.Compose([transforms.ToTensor(),\n",
        "                               transforms.Normalize((0.5,),(0.5,))])\n",
        "\n",
        "trainset = datasets.FashionMNIST('~/.pytorch/F_MNIST_data/',download=True,train=True,transform=transform)\n",
        "trainloader = torch.utils.data.DataLoader(trainset,batch_size=64,shuffle=True)\n",
        "\n",
        "testset = datasets.FashionMNIST('~/.pytorch/F_MNIST_data/', download=True, train=False, transform=transform)\n",
        "testloader = torch.utils.data.DataLoader(testset, batch_size=64, shuffle=True)"
      ],
      "execution_count": null,
      "outputs": []
    },
    {
      "cell_type": "code",
      "metadata": {
        "colab": {
          "base_uri": "https://localhost:8080/"
        },
        "id": "Cs9eDXc85mPR",
        "outputId": "d8745263-5264-49e6-a834-353b3f59cf4a"
      },
      "source": [
        "!wget -c https://raw.githubusercontent.com/udacity/deep-learning-v2-pytorch/master/intro-to-pytorch/helper.py\n",
        "\n",
        "import importlib\n",
        "importlib.reload(helper)"
      ],
      "execution_count": null,
      "outputs": [
        {
          "output_type": "stream",
          "name": "stdout",
          "text": [
            "--2021-09-26 12:01:29--  https://raw.githubusercontent.com/udacity/deep-learning-v2-pytorch/master/intro-to-pytorch/helper.py\n",
            "Resolving raw.githubusercontent.com (raw.githubusercontent.com)... 185.199.108.133, 185.199.109.133, 185.199.110.133, ...\n",
            "Connecting to raw.githubusercontent.com (raw.githubusercontent.com)|185.199.108.133|:443... connected.\n",
            "HTTP request sent, awaiting response... 416 Range Not Satisfiable\n",
            "\n",
            "    The file is already fully retrieved; nothing to do.\n",
            "\n"
          ]
        },
        {
          "output_type": "execute_result",
          "data": {
            "text/plain": [
              "<module 'helper' from '/content/helper.py'>"
            ]
          },
          "metadata": {},
          "execution_count": 13
        }
      ]
    },
    {
      "cell_type": "code",
      "metadata": {
        "colab": {
          "base_uri": "https://localhost:8080/",
          "height": 248
        },
        "id": "ChMuFJD15H_U",
        "outputId": "0143cde8-53eb-4238-d763-86d2cd6ba4cc"
      },
      "source": [
        "image,label = next(iter(trainloader))\n",
        "helper.imshow(image[0,:]);"
      ],
      "execution_count": null,
      "outputs": [
        {
          "output_type": "display_data",
          "data": {
            "image/png": "[encoded data removed]",
            "text/plain": [
              "<Figure size 432x288 with 1 Axes>"
            ]
          },
          "metadata": {
            "needs_background": "light"
          }
        }
      ]
    },
    {
      "cell_type": "code",
      "metadata": {
        "id": "Fdte8G0N5umS"
      },
      "source": [
        "from torch import nn,optim\n",
        "import torch.nn.functional as F"
      ],
      "execution_count": null,
      "outputs": []
    },
    {
      "cell_type": "code",
      "metadata": {
        "id": "AfsADhOn6C73"
      },
      "source": [
        "# TODO: Define your network architecture here\n",
        "class Classifier(nn.Module):\n",
        "    def __init__(self):\n",
        "        super().__init__()\n",
        "        self.fc1 = nn.Linear(784, 256)\n",
        "        self.fc2 = nn.Linear(256, 128)\n",
        "        self.fc3 = nn.Linear(128, 64)\n",
        "        self.fc4 = nn.Linear(64, 10)\n",
        "        \n",
        "    def forward(self, x):\n",
        "        # make sure input tensor is flattened\n",
        "        x = x.view(x.shape[0], -1)\n",
        "        \n",
        "        x = F.relu(self.fc1(x))\n",
        "        x = F.relu(self.fc2(x))\n",
        "        x = F.relu(self.fc3(x))\n",
        "        x = F.log_softmax(self.fc4(x), dim=1)\n",
        "        \n",
        "        return x"
      ],
      "execution_count": null,
      "outputs": []
    },
    {
      "cell_type": "code",
      "metadata": {
        "id": "yoHbxHVJ7wkx"
      },
      "source": [
        "model = Classifier()\n",
        "criterion = nn.NLLLoss()\n",
        "optimizer = optim.Adam(model.parameters(), lr=0.003)"
      ],
      "execution_count": null,
      "outputs": []
    },
    {
      "cell_type": "code",
      "metadata": {
        "colab": {
          "base_uri": "https://localhost:8080/"
        },
        "id": "lPAmr9zY8Wi4",
        "outputId": "9847da62-1696-43ee-a29f-0fdb97a5588b"
      },
      "source": [
        "# TODO: Train the network here\n",
        "epochs = 5\n",
        "\n",
        "for e in range(epochs):\n",
        "    running_loss = 0\n",
        "    for images, labels in trainloader:\n",
        "        log_ps = model(images)\n",
        "        loss = criterion(log_ps, labels)\n",
        "        \n",
        "        optimizer.zero_grad()\n",
        "        loss.backward()\n",
        "        optimizer.step()\n",
        "        \n",
        "        running_loss += loss.item()\n",
        "    else:\n",
        "        print(f\"Training loss: {running_loss/len(trainloader)}\")"
      ],
      "execution_count": null,
      "outputs": [
        {
          "output_type": "stream",
          "name": "stdout",
          "text": [
            "Training loss: 0.5150860293524098\n",
            "Training loss: 0.3941988998066896\n",
            "Training loss: 0.35611841856225973\n",
            "Training loss: 0.3333460743398046\n",
            "Training loss: 0.3170024023444922\n"
          ]
        }
      ]
    },
    {
      "cell_type": "code",
      "metadata": {
        "colab": {
          "base_uri": "https://localhost:8080/",
          "height": 233
        },
        "id": "eDSw3SeK-fjO",
        "outputId": "fb10e387-0531-45da-d493-852cd503c4df"
      },
      "source": [
        "%matplotlib inline\n",
        "%config InlineBackend.figure_format = 'retina'\n",
        "\n",
        "import helper\n",
        "\n",
        "dataiter = iter(testloader)\n",
        "images,labels = dataiter.next()\n",
        "img = images[1]\n",
        "\n",
        "ps = torch.exp(model(img))\n",
        "\n",
        "helper.view_classify(img,ps,version='Fashion')"
      ],
      "execution_count": null,
      "outputs": [
        {
          "output_type": "display_data",
          "data": {
            "image/png": "[encoded data removed]",
            "text/plain": [
              "<Figure size 432x648 with 2 Axes>"
            ]
          },
          "metadata": {
            "image/png": {
              "width": 424,
              "height": 216
            },
            "needs_background": "light"
          }
        }
      ]
    },
    {
      "cell_type": "code",
      "metadata": {
        "colab": {
          "base_uri": "https://localhost:8080/"
        },
        "id": "7RaGxR6LCS8J",
        "outputId": "a229e2a9-cee1-4d09-ac2a-9caaf96d548f"
      },
      "source": [
        "print(ps.shape)"
      ],
      "execution_count": null,
      "outputs": [
        {
          "output_type": "stream",
          "name": "stdout",
          "text": [
            "torch.Size([1, 10])\n"
          ]
        }
      ]
    },
    {
      "cell_type": "code",
      "metadata": {
        "id": "AOhdF74HDNVE"
      },
      "source": [
        "from torch import nn, optim\n",
        "import torch.nn.functional as F\n",
        "\n",
        "class Classifier(nn.Module):\n",
        "    def __init__(self):\n",
        "        super().__init__()\n",
        "        self.fc1 = nn.Linear(784, 256)\n",
        "        self.fc2 = nn.Linear(256, 128)\n",
        "        self.fc3 = nn.Linear(128, 64)\n",
        "        self.fc4 = nn.Linear(64, 10)\n",
        "        \n",
        "    def forward(self, x):\n",
        "        # make sure input tensor is flattened\n",
        "        x = x.view(x.shape[0], -1)\n",
        "        \n",
        "        x = F.relu(self.fc1(x))\n",
        "        x = F.relu(self.fc2(x))\n",
        "        x = F.relu(self.fc3(x))\n",
        "        x = F.log_softmax(self.fc4(x), dim=1)\n",
        "        \n",
        "        return x"
      ],
      "execution_count": null,
      "outputs": []
    },
    {
      "cell_type": "code",
      "metadata": {
        "colab": {
          "base_uri": "https://localhost:8080/"
        },
        "id": "DbHg9WM3GMMZ",
        "outputId": "05372bad-2616-41dd-d257-963024f2a635"
      },
      "source": [
        "model = Classifier()\n",
        "\n",
        "images, labels = next(iter(testloader))\n",
        "# Get the class probabilities\n",
        "ps = torch.exp(model(images))\n",
        "# Make sure the shape is appropriate, we should get 10 class probabilities for 64 examples\n",
        "print(ps.shape)"
      ],
      "execution_count": null,
      "outputs": [
        {
          "output_type": "stream",
          "name": "stdout",
          "text": [
            "torch.Size([64, 10])\n"
          ]
        }
      ]
    },
    {
      "cell_type": "code",
      "metadata": {
        "colab": {
          "base_uri": "https://localhost:8080/"
        },
        "id": "AoWgROshGQH-",
        "outputId": "278f41f8-ba00-4e91-9709-b36bbf391d58"
      },
      "source": [
        "top_p,top_class = ps.topk(1,dim=1)\n",
        "#most likely class\n",
        "print(top_class[:10,:])"
      ],
      "execution_count": null,
      "outputs": [
        {
          "output_type": "stream",
          "name": "stdout",
          "text": [
            "tensor([[6],\n",
            "        [7],\n",
            "        [4],\n",
            "        [7],\n",
            "        [7],\n",
            "        [6],\n",
            "        [7],\n",
            "        [7],\n",
            "        [7],\n",
            "        [6]])\n"
          ]
        }
      ]
    },
    {
      "cell_type": "code",
      "metadata": {
        "colab": {
          "base_uri": "https://localhost:8080/"
        },
        "id": "AYKAFGYSGs3D",
        "outputId": "ba9cb7d1-c88f-4aa4-c5bf-866a71e3cc3a"
      },
      "source": [
        "equals = top_class == labels\n",
        "equals"
      ],
      "execution_count": null,
      "outputs": [
        {
          "output_type": "execute_result",
          "data": {
            "text/plain": [
              "tensor([[False, False, False,  ..., False,  True, False],\n",
              "        [False, False, False,  ..., False, False, False],\n",
              "        [False, False, False,  ..., False, False, False],\n",
              "        ...,\n",
              "        [False, False, False,  ..., False,  True, False],\n",
              "        [False, False, False,  ..., False, False, False],\n",
              "        [False, False, False,  ..., False,  True, False]])"
            ]
          },
          "metadata": {},
          "execution_count": 52
        }
      ]
    },
    {
      "cell_type": "code",
      "metadata": {
        "colab": {
          "base_uri": "https://localhost:8080/"
        },
        "id": "6QKX2LIsG6r0",
        "outputId": "b18461ef-2a4b-48ad-a78a-f8403b683032"
      },
      "source": [
        "equals = top_class == labels.view(*top_class.shape)\n",
        "equals"
      ],
      "execution_count": null,
      "outputs": [
        {
          "output_type": "execute_result",
          "data": {
            "text/plain": [
              "tensor([[False],\n",
              "        [False],\n",
              "        [False],\n",
              "        [False],\n",
              "        [False],\n",
              "        [False],\n",
              "        [False],\n",
              "        [False],\n",
              "        [False],\n",
              "        [False],\n",
              "        [ True],\n",
              "        [ True],\n",
              "        [False],\n",
              "        [False],\n",
              "        [False],\n",
              "        [False],\n",
              "        [False],\n",
              "        [False],\n",
              "        [False],\n",
              "        [False],\n",
              "        [False],\n",
              "        [False],\n",
              "        [False],\n",
              "        [False],\n",
              "        [False],\n",
              "        [False],\n",
              "        [False],\n",
              "        [False],\n",
              "        [False],\n",
              "        [False],\n",
              "        [False],\n",
              "        [False],\n",
              "        [False],\n",
              "        [False],\n",
              "        [ True],\n",
              "        [False],\n",
              "        [False],\n",
              "        [False],\n",
              "        [False],\n",
              "        [False],\n",
              "        [False],\n",
              "        [False],\n",
              "        [False],\n",
              "        [False],\n",
              "        [False],\n",
              "        [False],\n",
              "        [ True],\n",
              "        [False],\n",
              "        [False],\n",
              "        [False],\n",
              "        [False],\n",
              "        [False],\n",
              "        [False],\n",
              "        [False],\n",
              "        [False],\n",
              "        [False],\n",
              "        [False],\n",
              "        [False],\n",
              "        [False],\n",
              "        [False],\n",
              "        [False],\n",
              "        [False],\n",
              "        [False],\n",
              "        [False]])"
            ]
          },
          "metadata": {},
          "execution_count": 54
        }
      ]
    },
    {
      "cell_type": "code",
      "metadata": {
        "colab": {
          "base_uri": "https://localhost:8080/"
        },
        "id": "eM7Tu79JHX1j",
        "outputId": "ae884646-97b9-44f0-c136-7ac827914114"
      },
      "source": [
        "accuracy = torch.mean(equals.type(torch.FloatTensor))\n",
        "print(f'Accuracy: {accuracy.item()*100}%')"
      ],
      "execution_count": null,
      "outputs": [
        {
          "output_type": "stream",
          "name": "stdout",
          "text": [
            "Accuracy: 6.25%\n"
          ]
        }
      ]
    },
    {
      "cell_type": "code",
      "metadata": {
        "colab": {
          "base_uri": "https://localhost:8080/"
        },
        "id": "lgwLo0PSISkd",
        "outputId": "b0594c20-935c-4524-b937-91d71b75cfa4"
      },
      "source": [
        "model = Classifier()\n",
        "criterion = nn.NLLLoss(reduction='sum')\n",
        "optimizer = optim.Adam(model.parameters(),lr=0.003)\n",
        "\n",
        "epochs = 30\n",
        "\n",
        "train_losses,test_losses = [], []\n",
        "for e in range(epochs):\n",
        "  tot_train_loss = 0\n",
        "  for images,labels in trainloader:\n",
        "    optimizer.zero_grad\n",
        "\n",
        "    log_ps = model(images)\n",
        "    loss = criterion(log_ps,labels)\n",
        "    tot_train_loss += loss.item()\n",
        "\n",
        "    loss.backward()\n",
        "    optimizer.step()\n",
        "  else:\n",
        "    tot_test_loss = 0\n",
        "    test_correct = 0 #number of correct positions on the data test\n",
        "\n",
        "    #Turn off gradients for validation,save memory and computations\n",
        "    with torch.no_grad():\n",
        "      for images,labels in testloader:\n",
        "        log_ps = model(images)\n",
        "        loss = criterion(log_ps,labels)\n",
        "        tot_test_loss += loss.item()\n",
        "\n",
        "        ps = torch.exp(log_ps)\n",
        "        top_p,top_class = ps.topk(1,dim=1)\n",
        "        equals = top_class == labels.view(*top_class.shape)\n",
        "        test_correct += equals.sum().item()\n",
        "\n",
        "      #Get the mean loss to enable comparison between train and test sets\n",
        "      train_loss = tot_train_loss / len(trainloader.dataset)\n",
        "      test_loss = tot_test_loss / len(testloader.dataset)\n",
        "\n",
        "      #At completion of each epoch\n",
        "      train_losses.append(train_loss)\n",
        "      test_losses.append(test_loss)\n",
        "\n",
        "      print(\"Epoch: {}/{}.. \".format(e+1,epoch),\n",
        "            \"Training loss: {:.3f}.. \".format(train_loss),\n",
        "            \"Test loss: {:.3f}.. \".format(test_loss),\n",
        "            \"Test Accuracy: {:.3f}.. \".format(test_correct / len(testloader.dataset))\n",
        "      )\n",
        "\n"
      ],
      "execution_count": null,
      "outputs": [
        {
          "output_type": "stream",
          "name": "stdout",
          "text": [
            "Epoch: 1/5..  Training loss: 3.251..  Test loss: 2.353..  Test Accuracy: 0.100.. \n",
            "Epoch: 2/5..  Training loss: 3.196..  Test loss: 2.370..  Test Accuracy: 0.100.. \n",
            "Epoch: 3/5..  Training loss: 75.952..  Test loss: 2.374..  Test Accuracy: 0.100.. \n",
            "Epoch: 4/5..  Training loss: 2.403..  Test loss: 2.448..  Test Accuracy: 0.100.. \n",
            "Epoch: 5/5..  Training loss: 2.407..  Test loss: 2.402..  Test Accuracy: 0.100.. \n",
            "Epoch: 6/5..  Training loss: 2.439..  Test loss: 2.770..  Test Accuracy: 0.100.. \n",
            "Epoch: 7/5..  Training loss: 3.332..  Test loss: 2.475..  Test Accuracy: 0.100.. \n",
            "Epoch: 8/5..  Training loss: 2.455..  Test loss: 2.450..  Test Accuracy: 0.100.. \n",
            "Epoch: 9/5..  Training loss: 2.477..  Test loss: 2.477..  Test Accuracy: 0.100.. \n",
            "Epoch: 10/5..  Training loss: 2.452..  Test loss: 60.833..  Test Accuracy: 0.100.. \n",
            "Epoch: 11/5..  Training loss: 2.482..  Test loss: 753.742..  Test Accuracy: 0.100.. \n",
            "Epoch: 12/5..  Training loss: 8.039..  Test loss: 2.458..  Test Accuracy: 0.100.. \n",
            "Epoch: 13/5..  Training loss: 2.483..  Test loss: 2.464..  Test Accuracy: 0.100.. \n",
            "Epoch: 14/5..  Training loss: 2.487..  Test loss: 2.442..  Test Accuracy: 0.100.. \n",
            "Epoch: 15/5..  Training loss: 2.500..  Test loss: 2.570..  Test Accuracy: 0.100.. \n",
            "Epoch: 16/5..  Training loss: 2.532..  Test loss: 2.611..  Test Accuracy: 0.100.. \n",
            "Epoch: 17/5..  Training loss: 2.515..  Test loss: 2.569..  Test Accuracy: 0.100.. \n",
            "Epoch: 18/5..  Training loss: 2.530..  Test loss: 2.607..  Test Accuracy: 0.100.. \n",
            "Epoch: 19/5..  Training loss: 2.528..  Test loss: 2.575..  Test Accuracy: 0.100.. \n",
            "Epoch: 20/5..  Training loss: 2.543..  Test loss: 41442.449..  Test Accuracy: 0.100.. \n",
            "Epoch: 21/5..  Training loss: 2.565..  Test loss: 76263.599..  Test Accuracy: 0.100.. \n",
            "Epoch: 22/5..  Training loss: 2.530..  Test loss: 71296.400..  Test Accuracy: 0.100.. \n",
            "Epoch: 23/5..  Training loss: 22549.355..  Test loss: 2.465..  Test Accuracy: 0.100.. \n",
            "Epoch: 24/5..  Training loss: 2.520..  Test loss: 2.406..  Test Accuracy: 0.100.. \n",
            "Epoch: 25/5..  Training loss: 2.509..  Test loss: 2.469..  Test Accuracy: 0.100.. \n",
            "Epoch: 26/5..  Training loss: 2.482..  Test loss: 2.457..  Test Accuracy: 0.100.. \n",
            "Epoch: 27/5..  Training loss: 2.549..  Test loss: 2.371..  Test Accuracy: 0.100.. \n",
            "Epoch: 28/5..  Training loss: 2.500..  Test loss: 2.561..  Test Accuracy: 0.100.. \n",
            "Epoch: 29/5..  Training loss: 2.506..  Test loss: 2.525..  Test Accuracy: 0.100.. \n",
            "Epoch: 30/5..  Training loss: 2.499..  Test loss: 2.448..  Test Accuracy: 0.100.. \n"
          ]
        }
      ]
    },
    {
      "cell_type": "code",
      "metadata": {
        "id": "pRgIgXKIP5V8"
      },
      "source": [
        "%matplotlib inline\n",
        "%config InlineBackend.figure_format = 'retina'\n",
        "\n",
        "import matplotlib.pyplot as plt"
      ],
      "execution_count": null,
      "outputs": []
    },
    {
      "cell_type": "code",
      "metadata": {
        "colab": {
          "base_uri": "https://localhost:8080/",
          "height": 285
        },
        "id": "Mln74FlnR1H5",
        "outputId": "ea941196-a084-4be8-ff06-5d77f3f1f871"
      },
      "source": [
        "plt.plot(train_losses,label='Training loss')\n",
        "plt.plot(test_losses,label='Validation loss')\n",
        "plt.legend(frameon=False)"
      ],
      "execution_count": null,
      "outputs": [
        {
          "output_type": "execute_result",
          "data": {
            "text/plain": [
              "<matplotlib.legend.Legend at 0x7f2094745510>"
            ]
          },
          "metadata": {},
          "execution_count": 61
        },
        {
          "output_type": "display_data",
          "data": {
            "image/png": "[encoded data removed]",
            "text/plain": [
              "<Figure size 432x288 with 1 Axes>"
            ]
          },
          "metadata": {
            "image/png": {
              "width": 390,
              "height": 251
            },
            "needs_background": "light"
          }
        }
      ]
    },
    {
      "cell_type": "code",
      "metadata": {
        "id": "LimlcqyjSGu0"
      },
      "source": [
        "class Classifier(nn.Module):\n",
        "    def __init__(self):\n",
        "        super().__init__()\n",
        "        self.fc1 = nn.Linear(784, 256)\n",
        "        self.fc2 = nn.Linear(256, 128)\n",
        "        self.fc3 = nn.Linear(128, 64)\n",
        "        self.fc4 = nn.Linear(64, 10)\n",
        "\n",
        "        # Dropout module with 0.2 drop probability\n",
        "        self.dropout = nn.Dropout(p=0.2)\n",
        "\n",
        "    def forward(self, x):\n",
        "        # make sure input tensor is flattened\n",
        "        x = x.view(x.shape[0], -1)\n",
        "\n",
        "        # Now with dropout\n",
        "        x = self.dropout(F.relu(self.fc1(x)))\n",
        "        x = self.dropout(F.relu(self.fc2(x)))\n",
        "        x = self.dropout(F.relu(self.fc3(x)))\n",
        "\n",
        "        # output so no dropout here\n",
        "        x = F.log_softmax(self.fc4(x), dim=1)\n",
        "\n",
        "        return x"
      ],
      "execution_count": null,
      "outputs": []
    },
    {
      "cell_type": "code",
      "metadata": {
        "colab": {
          "base_uri": "https://localhost:8080/"
        },
        "id": "YgcQC9wfTZej",
        "outputId": "c10a5e57-70b3-41e5-8452-f379198a2205"
      },
      "source": [
        "model = Classifier()\n",
        "criterion = nn.NLLLoss()\n",
        "optimizer = optim.Adam(model.parameters(), lr=0.003)\n",
        "\n",
        "epochs = 30\n",
        "steps = 0\n",
        "\n",
        "train_losses, test_losses = [], []\n",
        "for e in range(epochs):\n",
        "    running_loss = 0\n",
        "    for images, labels in trainloader:\n",
        "        \n",
        "        optimizer.zero_grad()\n",
        "        \n",
        "        log_ps = model(images)\n",
        "        loss = criterion(log_ps, labels)\n",
        "        loss.backward()\n",
        "        optimizer.step()\n",
        "        \n",
        "        running_loss += loss.item()\n",
        "        \n",
        "    else:\n",
        "        test_loss = 0\n",
        "        accuracy = 0\n",
        "        \n",
        "        # Turn off gradients for validation, saves memory and computations\n",
        "        with torch.no_grad():\n",
        "            model.eval()\n",
        "            for images, labels in testloader:\n",
        "                log_ps = model(images)\n",
        "                test_loss += criterion(log_ps, labels)\n",
        "                \n",
        "                ps = torch.exp(log_ps)\n",
        "                top_p, top_class = ps.topk(1, dim=1)\n",
        "                equals = top_class == labels.view(*top_class.shape)\n",
        "                accuracy += torch.mean(equals.type(torch.FloatTensor))\n",
        "        \n",
        "        model.train()\n",
        "        \n",
        "        train_losses.append(running_loss/len(trainloader))\n",
        "        test_losses.append(test_loss/len(testloader))\n",
        "\n",
        "        print(\"Epoch: {}/{}.. \".format(e+1, epochs),\n",
        "              \"Training Loss: {:.3f}.. \".format(train_losses[-1]),\n",
        "              \"Test Loss: {:.3f}.. \".format(test_losses[-1]),\n",
        "              \"Test Accuracy: {:.3f}\".format(accuracy/len(testloader)))"
      ],
      "execution_count": null,
      "outputs": [
        {
          "output_type": "stream",
          "name": "stdout",
          "text": [
            "Epoch: 1/30..  Training Loss: 0.608..  Test Loss: 0.476..  Test Accuracy: 0.831\n",
            "Epoch: 2/30..  Training Loss: 0.486..  Test Loss: 0.442..  Test Accuracy: 0.834\n",
            "Epoch: 3/30..  Training Loss: 0.455..  Test Loss: 0.473..  Test Accuracy: 0.832\n",
            "Epoch: 4/30..  Training Loss: 0.435..  Test Loss: 0.400..  Test Accuracy: 0.858\n",
            "Epoch: 5/30..  Training Loss: 0.417..  Test Loss: 0.402..  Test Accuracy: 0.854\n",
            "Epoch: 6/30..  Training Loss: 0.414..  Test Loss: 0.393..  Test Accuracy: 0.860\n",
            "Epoch: 7/30..  Training Loss: 0.407..  Test Loss: 0.408..  Test Accuracy: 0.856\n",
            "Epoch: 8/30..  Training Loss: 0.402..  Test Loss: 0.410..  Test Accuracy: 0.853\n",
            "Epoch: 9/30..  Training Loss: 0.395..  Test Loss: 0.391..  Test Accuracy: 0.860\n",
            "Epoch: 10/30..  Training Loss: 0.389..  Test Loss: 0.389..  Test Accuracy: 0.864\n",
            "Epoch: 11/30..  Training Loss: 0.381..  Test Loss: 0.380..  Test Accuracy: 0.867\n",
            "Epoch: 12/30..  Training Loss: 0.376..  Test Loss: 0.378..  Test Accuracy: 0.869\n",
            "Epoch: 13/30..  Training Loss: 0.372..  Test Loss: 0.403..  Test Accuracy: 0.864\n",
            "Epoch: 14/30..  Training Loss: 0.371..  Test Loss: 0.371..  Test Accuracy: 0.871\n",
            "Epoch: 15/30..  Training Loss: 0.365..  Test Loss: 0.407..  Test Accuracy: 0.857\n",
            "Epoch: 16/30..  Training Loss: 0.371..  Test Loss: 0.397..  Test Accuracy: 0.857\n",
            "Epoch: 17/30..  Training Loss: 0.362..  Test Loss: 0.449..  Test Accuracy: 0.859\n",
            "Epoch: 18/30..  Training Loss: 0.364..  Test Loss: 0.381..  Test Accuracy: 0.870\n",
            "Epoch: 19/30..  Training Loss: 0.363..  Test Loss: 0.380..  Test Accuracy: 0.869\n",
            "Epoch: 20/30..  Training Loss: 0.357..  Test Loss: 0.390..  Test Accuracy: 0.873\n",
            "Epoch: 21/30..  Training Loss: 0.356..  Test Loss: 0.370..  Test Accuracy: 0.871\n",
            "Epoch: 22/30..  Training Loss: 0.348..  Test Loss: 0.376..  Test Accuracy: 0.867\n",
            "Epoch: 23/30..  Training Loss: 0.355..  Test Loss: 0.380..  Test Accuracy: 0.869\n",
            "Epoch: 24/30..  Training Loss: 0.343..  Test Loss: 0.390..  Test Accuracy: 0.873\n",
            "Epoch: 25/30..  Training Loss: 0.353..  Test Loss: 0.375..  Test Accuracy: 0.873\n",
            "Epoch: 26/30..  Training Loss: 0.349..  Test Loss: 0.377..  Test Accuracy: 0.869\n",
            "Epoch: 27/30..  Training Loss: 0.343..  Test Loss: 0.370..  Test Accuracy: 0.876\n",
            "Epoch: 28/30..  Training Loss: 0.345..  Test Loss: 0.372..  Test Accuracy: 0.878\n",
            "Epoch: 29/30..  Training Loss: 0.344..  Test Loss: 0.408..  Test Accuracy: 0.863\n",
            "Epoch: 30/30..  Training Loss: 0.342..  Test Loss: 0.384..  Test Accuracy: 0.871\n"
          ]
        }
      ]
    },
    {
      "cell_type": "code",
      "metadata": {
        "id": "cJOKDQ6xWzOo"
      },
      "source": [
        "%matplotlib inline\n",
        "%config InlineBackend.figure_format = 'retina'\n",
        "\n",
        "import matplotlib.pyplot as plt"
      ],
      "execution_count": null,
      "outputs": []
    },
    {
      "cell_type": "code",
      "metadata": {
        "colab": {
          "base_uri": "https://localhost:8080/",
          "height": 283
        },
        "id": "oNCR1OgYW1Kc",
        "outputId": "2d89aa47-5a64-4782-bfab-5eb2399bf32e"
      },
      "source": [
        "\n",
        "plt.plot(train_losses, label='Training loss')\n",
        "plt.plot(test_losses, label='Validation loss')\n",
        "plt.legend(frameon=False)"
      ],
      "execution_count": null,
      "outputs": [
        {
          "output_type": "execute_result",
          "data": {
            "text/plain": [
              "<matplotlib.legend.Legend at 0x7f209479e250>"
            ]
          },
          "metadata": {},
          "execution_count": 65
        },
        {
          "output_type": "display_data",
          "data": {
            "image/png": "[encoded data removed]",
            "text/plain": [
              "<Figure size 432x288 with 1 Axes>"
            ]
          },
          "metadata": {
            "image/png": {
              "width": 380,
              "height": 248
            },
            "needs_background": "light"
          }
        }
      ]
    },
    {
      "cell_type": "code",
      "metadata": {
        "colab": {
          "base_uri": "https://localhost:8080/",
          "height": 233
        },
        "id": "xS6EUUjGTrZM",
        "outputId": "ac16ecc0-96b0-4bad-e20c-a604247d348b"
      },
      "source": [
        "#Inference\n",
        "import helper\n",
        "\n",
        "model.eval()\n",
        "\n",
        "dataiter = iter(testloader)\n",
        "images,labels = dataiter.next()\n",
        "img = images[0]\n",
        "#convert 2D image into 1D\n",
        "img = img.view(1,784)\n",
        "\n",
        "#calculate the class probabilities (softmax) for img\n",
        "with torch.no_grad():\n",
        "  output = model.forward(img)\n",
        "\n",
        "ps = torch.exp(output)\n",
        "\n",
        "#plot the image and probabilities\n",
        "helper.view_classify(img.view(1,28,28),ps,version='Fashion')"
      ],
      "execution_count": null,
      "outputs": [
        {
          "output_type": "display_data",
          "data": {
            "image/png": "[encoded data removed]",
            "text/plain": [
              "<Figure size 432x648 with 2 Axes>"
            ]
          },
          "metadata": {
            "image/png": {
              "width": 424,
              "height": 216
            },
            "needs_background": "light"
          }
        }
      ]
    },
    {
      "cell_type": "code",
      "metadata": {
        "id": "pZShsXxIXGra"
      },
      "source": [
        ""
      ],
      "execution_count": null,
      "outputs": []
    }
  ]
}